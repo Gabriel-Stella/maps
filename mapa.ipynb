{
 "cells": [
  {
   "cell_type": "code",
   "execution_count": 9,
   "metadata": {},
   "outputs": [],
   "source": [
    "import folium\n",
    "\n",
    "# MY CO-ORDINATES -- FOUR POINTS\n",
    "\n",
    "p1_lat, p1_lon = -25.3604877, -49.5105719\n",
    "\n",
    "point = [p1_lat, p1_lon]\n",
    "# CENTER THE MAP\n",
    "\n",
    "\n",
    "testmap = folium.Map(location=point, zoom_start=16)\n",
    "\n",
    "# MAKE THREE FOLIUM CIRCULES\n",
    "\n",
    "folium.Circle(location=point, popup='Raio de 700m', fill_color='#000', radius=700, weight=2, color=\"#000\").add_to(testmap)\n",
    "folium.Marker(point, popup='Ponto').add_to(testmap)\n",
    "\n",
    "# GENERATE MAP SEEN IN IMAGE\n",
    "\n",
    "testmap.save('mapa_rio.html')\n"
   ]
  },
  {
   "cell_type": "code",
   "execution_count": null,
   "metadata": {},
   "outputs": [],
   "source": []
  }
 ],
 "metadata": {
  "kernelspec": {
   "display_name": "Python 3.8.0 64-bit",
   "language": "python",
   "name": "python3"
  },
  "language_info": {
   "codemirror_mode": {
    "name": "ipython",
    "version": 3
   },
   "file_extension": ".py",
   "mimetype": "text/x-python",
   "name": "python",
   "nbconvert_exporter": "python",
   "pygments_lexer": "ipython3",
   "version": "3.8.0"
  },
  "orig_nbformat": 4,
  "vscode": {
   "interpreter": {
    "hash": "63dc63cf6ca8876faf9c508d88ef30d46f97a44b329620451e0354c024ca4219"
   }
  }
 },
 "nbformat": 4,
 "nbformat_minor": 2
}
